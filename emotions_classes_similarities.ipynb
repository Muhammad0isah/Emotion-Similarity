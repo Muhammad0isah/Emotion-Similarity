{
  "cells": [
    {
      "cell_type": "markdown",
      "metadata": {
        "id": "view-in-github",
        "colab_type": "text"
      },
      "source": [
        "<a href=\"https://colab.research.google.com/github/Muhammad0isah/Emotion-Similarity/blob/main/emotions_classes_similarities.ipynb\" target=\"_parent\"><img src=\"https://colab.research.google.com/assets/colab-badge.svg\" alt=\"Open In Colab\"/></a>"
      ]
    },
    {
      "cell_type": "code",
      "source": [
        "from google.colab import drive\n",
        "drive.mount('/content/drive')"
      ],
      "metadata": {
        "colab": {
          "base_uri": "https://localhost:8080/"
        },
        "id": "K-YZNHKE3l1a",
        "outputId": "083080b2-506f-464a-e2e1-82194aae176f"
      },
      "id": "K-YZNHKE3l1a",
      "execution_count": null,
      "outputs": [
        {
          "output_type": "stream",
          "name": "stdout",
          "text": [
            "Mounted at /content/drive\n"
          ]
        }
      ]
    },
    {
      "cell_type": "code",
      "source": [
        "import pandas as pd\n",
        "import torch\n",
        "from transformers import AutoTokenizer, AutoModelForSequenceClassification\n",
        "from sklearn.metrics.pairwise import cosine_similarity\n",
        "import numpy as np\n",
        "\n",
        "# Load the dataset\n",
        "data = pd.read_csv('/content/drive/MyDrive/LCF-ATEPC-Restaurant/LCF-ATEPC-Restaurant/Annotated ABSA with Emotions Dataset.csv')\n",
        "\n",
        "\n",
        "# Load pre-trained DistilBERT Emotion model and tokenizer\n",
        "model_name = \"bhadresh-savani/distilbert-base-uncased-emotion\"\n",
        "tokenizer = AutoTokenizer.from_pretrained(model_name)\n",
        "model = AutoModelForSequenceClassification.from_pretrained(model_name)\n",
        "\n",
        "# Check if to make sure there is  no duplicate emotion classes and group sentences by emotion\n",
        "grouped_sentences = data.groupby(\"Emotion Class\")[\"Review Sentence\"].apply(list).to_dict()\n",
        "\n"
      ],
      "metadata": {
        "id": "oeOVeAjnypVv"
      },
      "id": "oeOVeAjnypVv",
      "execution_count": 24,
      "outputs": []
    },
    {
      "cell_type": "code",
      "source": [
        "print(grouped_sentences.keys())\n",
        "print(\"total review sentences\", len(data))"
      ],
      "metadata": {
        "colab": {
          "base_uri": "https://localhost:8080/"
        },
        "id": "XBwN6QLdyvtL",
        "outputId": "e4aa7788-59bb-43b5-fcb3-f8aa06efeaab"
      },
      "id": "XBwN6QLdyvtL",
      "execution_count": 36,
      "outputs": [
        {
          "output_type": "stream",
          "name": "stdout",
          "text": [
            "dict_keys(['Anger', 'Disgust', 'Fear', 'Joy', 'Sadness', 'Surprise'])\n",
            "total review sentences 4833\n"
          ]
        }
      ]
    },
    {
      "cell_type": "code",
      "source": [
        "# Function to get logits  and return  sentence as embeddings\n",
        "def get_emotion_logits(sentence):\n",
        "    inputs = tokenizer(sentence, return_tensors=\"pt\", truncation=True, padding=True)\n",
        "    with torch.no_grad():\n",
        "        outputs = model(**inputs)\n",
        "    # Extract logits for the emotion classes\n",
        "    return outputs.logits\n",
        "\n",
        "# Compute the mean embedding for each emotion class\n",
        "emotion_logits = {}\n",
        "for emotion, sentences in grouped_sentences.items():\n",
        "    # Get embeddings for each sentence in the group\n",
        "    embeddings = [get_emotion_logits(sentence) for sentence in sentences]\n",
        "    # Compute mean embedding for the group\n",
        "    mean_embedding = torch.mean(torch.cat(embeddings, dim=0), dim=0, keepdim=True)\n",
        "    emotion_logits[emotion] = mean_embedding.numpy()\n",
        "\n",
        "# Compute pairwise cosine similarities\n",
        "similarities = {}\n",
        "emotions = list(emotion_logits.keys())\n",
        "for i in range(len(emotions)):\n",
        "    for j in range(i + 1, len(emotions)):\n",
        "        emotion1, emotion2 = emotions[i], emotions[j]\n",
        "        similarity = cosine_similarity(emotion_logits[emotion1], emotion_logits[emotion2])[0][0]\n",
        "        similarities[f\"{emotion1} vs {emotion2}\"] = similarity\n",
        "\n",
        "# print the results\n",
        "for pair, sim in similarities.items():\n",
        "    print(f\"Similarity between {pair}: {sim:.2f}\")\n"
      ],
      "metadata": {
        "colab": {
          "base_uri": "https://localhost:8080/"
        },
        "id": "6k4G5XNEyvv2",
        "outputId": "4f35363d-2f8c-4496-b140-6cccacb5a2b1"
      },
      "id": "6k4G5XNEyvv2",
      "execution_count": 26,
      "outputs": [
        {
          "output_type": "stream",
          "name": "stdout",
          "text": [
            "Similarity between Anger vs Disgust: 0.9852\n",
            "Similarity between Anger vs Fear: 0.9888\n",
            "Similarity between Anger vs Joy: 0.5542\n",
            "Similarity between Anger vs Sadness: 0.9688\n",
            "Similarity between Anger vs Surprise: 0.8330\n",
            "Similarity between Disgust vs Fear: 0.9727\n",
            "Similarity between Disgust vs Joy: 0.6805\n",
            "Similarity between Disgust vs Sadness: 0.9359\n",
            "Similarity between Disgust vs Surprise: 0.9088\n",
            "Similarity between Fear vs Joy: 0.5079\n",
            "Similarity between Fear vs Sadness: 0.9782\n",
            "Similarity between Fear vs Surprise: 0.7984\n",
            "Similarity between Joy vs Sadness: 0.3945\n",
            "Similarity between Joy vs Surprise: 0.9140\n",
            "Similarity between Sadness vs Surprise: 0.7090\n"
          ]
        }
      ]
    }
  ],
  "metadata": {
    "kernelspec": {
      "display_name": "Python 3 (ipykernel)",
      "language": "python",
      "name": "python3"
    },
    "language_info": {
      "codemirror_mode": {
        "name": "ipython",
        "version": 3
      },
      "file_extension": ".py",
      "mimetype": "text/x-python",
      "name": "python",
      "nbconvert_exporter": "python",
      "pygments_lexer": "ipython3",
      "version": "3.11.4"
    },
    "colab": {
      "provenance": [],
      "name": "emotions-classes-similarities.ipynb",
      "include_colab_link": true
    }
  },
  "nbformat": 4,
  "nbformat_minor": 5
}
